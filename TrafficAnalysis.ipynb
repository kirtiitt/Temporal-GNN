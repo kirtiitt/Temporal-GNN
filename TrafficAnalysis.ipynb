{
    {
      "cell_type": "markdown",
      "source": [
        "## Installation"
      ],
      "metadata": {
        "id": "3w7Y-gnAionn"
      }
    },
    {
      "cell_type": "code",
      "source": [
        "import torch\n",
        "!pip install torch-scatter -f https://pytorch-geometric.com/whl/torch-${pt_version}.html\n",
        "!pip install torch-sparse -f https://pytorch-geometric.com/whl/torch-${pt_version}.html\n",
        "!pip install torch-cluster -f https://pytorch-geometric.com/whl/torch-${pt_version}.html\n",
        "!pip install torch-spline-conv -f https://pytorch-geometric.com/whl/torch-${pt_version}.html"
      ],
      "metadata": {
        "id": "nJN6pzANarT2",
        "colab": {
          "base_uri": "https://localhost:8080/"
        },
        "outputId": "e9053be3-41c2-4c18-f206-d291b5ab8085"
      },
      "execution_count": 9,
      "outputs": [
        {
          "output_type": "stream",
          "name": "stdout",
          "text": [
            "Looking in links: https://pytorch-geometric.com/whl/torch-.html\r\n",
            "Requirement already satisfied: torch-scatter in ./opt/anaconda3/lib/python3.9/site-packages (2.1.1)\n",
            "\n",
            "\u001b[1m[\u001b[0m\u001b[34;49mnotice\u001b[0m\u001b[1;39;49m]\u001b[0m\u001b[39;49m A new release of pip available: \u001b[0m\u001b[31;49m22.2.2\u001b[0m\u001b[39;49m -> \u001b[0m\u001b[32;49m23.2.1\u001b[0m\n",
            "\u001b[1m[\u001b[0m\u001b[34;49mnotice\u001b[0m\u001b[1;39;49m]\u001b[0m\u001b[39;49m To update, run: \u001b[0m\u001b[32;49mpip install --upgrade pip\u001b[0m\n",
            "Looking in links: https://pytorch-geometric.com/whl/torch-.html\n",
            "Requirement already satisfied: torch-sparse in ./opt/anaconda3/lib/python3.9/site-packages (0.6.17)\n",
            "Requirement already satisfied: scipy in ./opt/anaconda3/lib/python3.9/site-packages (from torch-sparse) (1.7.1)\n",
            "Requirement already satisfied: numpy<1.23.0,>=1.16.5 in ./opt/anaconda3/lib/python3.9/site-packages (from scipy->torch-sparse) (1.20.3)\n",
            "\n",
            "\u001b[1m[\u001b[0m\u001b[34;49mnotice\u001b[0m\u001b[1;39;49m]\u001b[0m\u001b[39;49m A new release of pip available: \u001b[0m\u001b[31;49m22.2.2\u001b[0m\u001b[39;49m -> \u001b[0m\u001b[32;49m23.2.1\u001b[0m\n",
            "\u001b[1m[\u001b[0m\u001b[34;49mnotice\u001b[0m\u001b[1;39;49m]\u001b[0m\u001b[39;49m To update, run: \u001b[0m\u001b[32;49mpip install --upgrade pip\u001b[0m\n",
            "Looking in links: https://pytorch-geometric.com/whl/torch-.html\n",
            "Requirement already satisfied: torch-cluster in ./opt/anaconda3/lib/python3.9/site-packages (1.6.1)\n",
            "Requirement already satisfied: scipy in ./opt/anaconda3/lib/python3.9/site-packages (from torch-cluster) (1.7.1)\n",
            "Requirement already satisfied: numpy<1.23.0,>=1.16.5 in ./opt/anaconda3/lib/python3.9/site-packages (from scipy->torch-cluster) (1.20.3)\n",
            "\n",
            "\u001b[1m[\u001b[0m\u001b[34;49mnotice\u001b[0m\u001b[1;39;49m]\u001b[0m\u001b[39;49m A new release of pip available: \u001b[0m\u001b[31;49m22.2.2\u001b[0m\u001b[39;49m -> \u001b[0m\u001b[32;49m23.2.1\u001b[0m\n",
            "\u001b[1m[\u001b[0m\u001b[34;49mnotice\u001b[0m\u001b[1;39;49m]\u001b[0m\u001b[39;49m To update, run: \u001b[0m\u001b[32;49mpip install --upgrade pip\u001b[0m\n",
            "Looking in links: https://pytorch-geometric.com/whl/torch-.html\n",
            "Requirement already satisfied: torch-spline-conv in ./opt/anaconda3/lib/python3.9/site-packages (1.2.2)\n",
            "\n",
            "\u001b[1m[\u001b[0m\u001b[34;49mnotice\u001b[0m\u001b[1;39;49m]\u001b[0m\u001b[39;49m A new release of pip available: \u001b[0m\u001b[31;49m22.2.2\u001b[0m\u001b[39;49m -> \u001b[0m\u001b[32;49m23.2.1\u001b[0m\n",
            "\u001b[1m[\u001b[0m\u001b[34;49mnotice\u001b[0m\u001b[1;39;49m]\u001b[0m\u001b[39;49m To update, run: \u001b[0m\u001b[32;49mpip install --upgrade pip\u001b[0m\n"
          ]
        }
      ]
    },
    {
      "cell_type": "code",
      "source": [
        "!pip install torch-geometric\n",
        "!pip install torch-geometric-temporal\n",
        "!pip install torch torchvision torchaudio -f https://download.pytorch.org/whl/cu111/torch_stable.html"
      ],
      "metadata": {
        "id": "4w4QLScAicLg",
        "colab": {
          "base_uri": "https://localhost:8080/"
        },
        "outputId": "03ab3cf7-576b-410e-9224-3a7a5bcd975f"
      },
      "execution_count": 10,
      "outputs": [
        {
          "output_type": "stream",
          "name": "stdout",
          "text": [
            "Requirement already satisfied: torch-geometric in ./opt/anaconda3/lib/python3.9/site-packages (2.3.1)\n",
            "Requirement already satisfied: pyparsing in ./opt/anaconda3/lib/python3.9/site-packages (from torch-geometric) (3.0.4)\n",
            "Requirement already satisfied: scipy in ./opt/anaconda3/lib/python3.9/site-packages (from torch-geometric) (1.7.1)\n",
            "Requirement already satisfied: psutil>=5.8.0 in ./opt/anaconda3/lib/python3.9/site-packages (from torch-geometric) (5.8.0)\n",
            "Requirement already satisfied: numpy in ./opt/anaconda3/lib/python3.9/site-packages (from torch-geometric) (1.20.3)\n",
            "Requirement already satisfied: requests in ./opt/anaconda3/lib/python3.9/site-packages (from torch-geometric) (2.26.0)\n",
            "Requirement already satisfied: scikit-learn in ./opt/anaconda3/lib/python3.9/site-packages (from torch-geometric) (0.24.2)\n",
            "Requirement already satisfied: jinja2 in ./opt/anaconda3/lib/python3.9/site-packages (from torch-geometric) (2.11.3)\n",
            "Requirement already satisfied: tqdm in ./opt/anaconda3/lib/python3.9/site-packages (from torch-geometric) (4.62.3)\n",
            "Requirement already satisfied: MarkupSafe>=0.23 in ./opt/anaconda3/lib/python3.9/site-packages (from jinja2->torch-geometric) (1.1.1)\n",
            "Requirement already satisfied: certifi>=2017.4.17 in ./opt/anaconda3/lib/python3.9/site-packages (from requests->torch-geometric) (2021.10.8)\n",
            "Requirement already satisfied: charset-normalizer~=2.0.0 in ./opt/anaconda3/lib/python3.9/site-packages (from requests->torch-geometric) (2.0.4)\n",
            "Requirement already satisfied: urllib3<1.27,>=1.21.1 in ./opt/anaconda3/lib/python3.9/site-packages (from requests->torch-geometric) (1.26.7)\n",
            "Requirement already satisfied: idna<4,>=2.5 in ./opt/anaconda3/lib/python3.9/site-packages (from requests->torch-geometric) (3.2)\n",
            "Requirement already satisfied: joblib>=0.11 in ./opt/anaconda3/lib/python3.9/site-packages (from scikit-learn->torch-geometric) (1.1.0)\n",
            "Requirement already satisfied: threadpoolctl>=2.0.0 in ./opt/anaconda3/lib/python3.9/site-packages (from scikit-learn->torch-geometric) (2.2.0)\n",
            "\n",
            "\u001b[1m[\u001b[0m\u001b[34;49mnotice\u001b[0m\u001b[1;39;49m]\u001b[0m\u001b[39;49m A new release of pip available: \u001b[0m\u001b[31;49m22.2.2\u001b[0m\u001b[39;49m -> \u001b[0m\u001b[32;49m23.2.1\u001b[0m\n",
            "\u001b[1m[\u001b[0m\u001b[34;49mnotice\u001b[0m\u001b[1;39;49m]\u001b[0m\u001b[39;49m To update, run: \u001b[0m\u001b[32;49mpip install --upgrade pip\u001b[0m\n",
            "Requirement already satisfied: torch-geometric-temporal in ./opt/anaconda3/lib/python3.9/site-packages (0.54.0)\n",
            "Requirement already satisfied: torch in ./opt/anaconda3/lib/python3.9/site-packages (from torch-geometric-temporal) (2.0.1)\n",
            "Requirement already satisfied: cython in ./opt/anaconda3/lib/python3.9/site-packages (from torch-geometric-temporal) (0.29.24)\n",
            "Requirement already satisfied: numpy in ./opt/anaconda3/lib/python3.9/site-packages (from torch-geometric-temporal) (1.20.3)\n",
            "Requirement already satisfied: torch-sparse in ./opt/anaconda3/lib/python3.9/site-packages (from torch-geometric-temporal) (0.6.17)\n",
            "Requirement already satisfied: torch-geometric in ./opt/anaconda3/lib/python3.9/site-packages (from torch-geometric-temporal) (2.3.1)\n",
            "Requirement already satisfied: networkx in ./opt/anaconda3/lib/python3.9/site-packages (from torch-geometric-temporal) (2.6.3)\n",
            "Requirement already satisfied: six in ./opt/anaconda3/lib/python3.9/site-packages (from torch-geometric-temporal) (1.16.0)\n",
            "Requirement already satisfied: decorator==4.4.2 in ./opt/anaconda3/lib/python3.9/site-packages (from torch-geometric-temporal) (4.4.2)\n",
            "Requirement already satisfied: pandas<=1.3.5 in ./opt/anaconda3/lib/python3.9/site-packages (from torch-geometric-temporal) (1.3.4)\n",
            "Requirement already satisfied: torch-scatter in ./opt/anaconda3/lib/python3.9/site-packages (from torch-geometric-temporal) (2.1.1)\n",
            "Requirement already satisfied: python-dateutil>=2.7.3 in ./opt/anaconda3/lib/python3.9/site-packages (from pandas<=1.3.5->torch-geometric-temporal) (2.8.2)\n",
            "Requirement already satisfied: pytz>=2017.3 in ./opt/anaconda3/lib/python3.9/site-packages (from pandas<=1.3.5->torch-geometric-temporal) (2021.3)\n",
            "Requirement already satisfied: sympy in ./opt/anaconda3/lib/python3.9/site-packages (from torch->torch-geometric-temporal) (1.9)\n",
            "Requirement already satisfied: jinja2 in ./opt/anaconda3/lib/python3.9/site-packages (from torch->torch-geometric-temporal) (2.11.3)\n",
            "Requirement already satisfied: filelock in ./opt/anaconda3/lib/python3.9/site-packages (from torch->torch-geometric-temporal) (3.3.1)\n",
            "Requirement already satisfied: typing-extensions in ./opt/anaconda3/lib/python3.9/site-packages (from torch->torch-geometric-temporal) (3.10.0.2)\n",
            "Requirement already satisfied: psutil>=5.8.0 in ./opt/anaconda3/lib/python3.9/site-packages (from torch-geometric->torch-geometric-temporal) (5.8.0)\n",
            "Requirement already satisfied: tqdm in ./opt/anaconda3/lib/python3.9/site-packages (from torch-geometric->torch-geometric-temporal) (4.62.3)\n",
            "Requirement already satisfied: scipy in ./opt/anaconda3/lib/python3.9/site-packages (from torch-geometric->torch-geometric-temporal) (1.7.1)\n",
            "Requirement already satisfied: requests in ./opt/anaconda3/lib/python3.9/site-packages (from torch-geometric->torch-geometric-temporal) (2.26.0)\n",
            "Requirement already satisfied: pyparsing in ./opt/anaconda3/lib/python3.9/site-packages (from torch-geometric->torch-geometric-temporal) (3.0.4)\n",
            "Requirement already satisfied: scikit-learn in ./opt/anaconda3/lib/python3.9/site-packages (from torch-geometric->torch-geometric-temporal) (0.24.2)\n",
            "Requirement already satisfied: MarkupSafe>=0.23 in ./opt/anaconda3/lib/python3.9/site-packages (from jinja2->torch->torch-geometric-temporal) (1.1.1)\n",
            "Requirement already satisfied: urllib3<1.27,>=1.21.1 in ./opt/anaconda3/lib/python3.9/site-packages (from requests->torch-geometric->torch-geometric-temporal) (1.26.7)\n",
            "Requirement already satisfied: charset-normalizer~=2.0.0 in ./opt/anaconda3/lib/python3.9/site-packages (from requests->torch-geometric->torch-geometric-temporal) (2.0.4)\n",
            "Requirement already satisfied: certifi>=2017.4.17 in ./opt/anaconda3/lib/python3.9/site-packages (from requests->torch-geometric->torch-geometric-temporal) (2021.10.8)\n",
            "Requirement already satisfied: idna<4,>=2.5 in ./opt/anaconda3/lib/python3.9/site-packages (from requests->torch-geometric->torch-geometric-temporal) (3.2)\n",
            "Requirement already satisfied: joblib>=0.11 in ./opt/anaconda3/lib/python3.9/site-packages (from scikit-learn->torch-geometric->torch-geometric-temporal) (1.1.0)\n",
            "Requirement already satisfied: threadpoolctl>=2.0.0 in ./opt/anaconda3/lib/python3.9/site-packages (from scikit-learn->torch-geometric->torch-geometric-temporal) (2.2.0)\n",
            "Requirement already satisfied: mpmath>=0.19 in ./opt/anaconda3/lib/python3.9/site-packages (from sympy->torch->torch-geometric-temporal) (1.2.1)\n",
            "\n",
            "\u001b[1m[\u001b[0m\u001b[34;49mnotice\u001b[0m\u001b[1;39;49m]\u001b[0m\u001b[39;49m A new release of pip available: \u001b[0m\u001b[31;49m22.2.2\u001b[0m\u001b[39;49m -> \u001b[0m\u001b[32;49m23.2.1\u001b[0m\n",
            "\u001b[1m[\u001b[0m\u001b[34;49mnotice\u001b[0m\u001b[1;39;49m]\u001b[0m\u001b[39;49m To update, run: \u001b[0m\u001b[32;49mpip install --upgrade pip\u001b[0m\n",
            "Looking in links: https://download.pytorch.org/whl/cu111/torch_stable.html\n",
            "Requirement already satisfied: torch in ./opt/anaconda3/lib/python3.9/site-packages (2.0.1)\n",
            "Requirement already satisfied: torchvision in ./opt/anaconda3/lib/python3.9/site-packages (0.15.2)\n",
            "Requirement already satisfied: torchaudio in ./opt/anaconda3/lib/python3.9/site-packages (2.0.2)\n",
            "Requirement already satisfied: filelock in ./opt/anaconda3/lib/python3.9/site-packages (from torch) (3.3.1)\n",
            "Requirement already satisfied: jinja2 in ./opt/anaconda3/lib/python3.9/site-packages (from torch) (2.11.3)\n",
            "Requirement already satisfied: typing-extensions in ./opt/anaconda3/lib/python3.9/site-packages (from torch) (3.10.0.2)\n",
            "Requirement already satisfied: networkx in ./opt/anaconda3/lib/python3.9/site-packages (from torch) (2.6.3)\n",
            "Requirement already satisfied: sympy in ./opt/anaconda3/lib/python3.9/site-packages (from torch) (1.9)\n",
            "Requirement already satisfied: numpy in ./opt/anaconda3/lib/python3.9/site-packages (from torchvision) (1.20.3)\n",
            "Requirement already satisfied: pillow!=8.3.*,>=5.3.0 in ./opt/anaconda3/lib/python3.9/site-packages (from torchvision) (8.4.0)\n",
            "Requirement already satisfied: requests in ./opt/anaconda3/lib/python3.9/site-packages (from torchvision) (2.26.0)\n",
            "Requirement already satisfied: MarkupSafe>=0.23 in ./opt/anaconda3/lib/python3.9/site-packages (from jinja2->torch) (1.1.1)\n",
            "Requirement already satisfied: certifi>=2017.4.17 in ./opt/anaconda3/lib/python3.9/site-packages (from requests->torchvision) (2021.10.8)\n",
            "Requirement already satisfied: urllib3<1.27,>=1.21.1 in ./opt/anaconda3/lib/python3.9/site-packages (from requests->torchvision) (1.26.7)\n",
            "Requirement already satisfied: charset-normalizer~=2.0.0 in ./opt/anaconda3/lib/python3.9/site-packages (from requests->torchvision) (2.0.4)\n",
            "Requirement already satisfied: idna<4,>=2.5 in ./opt/anaconda3/lib/python3.9/site-packages (from requests->torchvision) (3.2)\n",
            "Requirement already satisfied: mpmath>=0.19 in ./opt/anaconda3/lib/python3.9/site-packages (from sympy->torch) (1.2.1)\n",
            "\n",
            "\u001b[1m[\u001b[0m\u001b[34;49mnotice\u001b[0m\u001b[1;39;49m]\u001b[0m\u001b[39;49m A new release of pip available: \u001b[0m\u001b[31;49m22.2.2\u001b[0m\u001b[39;49m -> \u001b[0m\u001b[32;49m23.2.1\u001b[0m\n",
            "\u001b[1m[\u001b[0m\u001b[34;49mnotice\u001b[0m\u001b[1;39;49m]\u001b[0m\u001b[39;49m To update, run: \u001b[0m\u001b[32;49mpip install --upgrade pip\u001b[0m\n"
          ]
        }
      ]
    },
    {
      "cell_type": "markdown",
      "source": [
        "## Reading Dataset"
      ],
      "metadata": {
        "id": "uze9bKm8i4rd"
      }
    },
    {
      "cell_type": "code",
      "source": [
        "import numpy as np\n",
        "from torch_geometric_temporal.dataset import METRLADatasetLoader\n",
        "from torch_geometric_temporal.signal import StaticGraphTemporalSignal\n",
        "\n",
        "loader = METRLADatasetLoader()\n",
        "dataset = loader.get_dataset(num_timesteps_in=12, num_timesteps_out=12)\n",
        "\n",
        "print(\"Dataset type: \", dataset)\n",
        "\n",
        "#no direct len() function available for object dataset and converting in set is not possible because of unhashable data type\n",
        "num_samples = 0\n",
        "for data in dataset:\n",
        "    num_samples += 1\n",
        "print(\"Number of samples/ sequences: \", num_samples)"
      ],
      "metadata": {
        "colab": {
          "base_uri": "https://localhost:8080/"
        },
        "id": "XNPuOjPAikOV",
        "outputId": "1e890ef7-76a5-4b3d-8ef3-2a1e6dde3dfd"
      },
      "execution_count": 14,
      "outputs": [
        {
          "output_type": "stream",
          "name": "stdout",
          "text": [
            "Dataset type:  <torch_geometric_temporal.signal.static_graph_temporal_signal.StaticGraphTemporalSignal object at 0x7f9d9b48eac0>\n",
            "Number of samples/ sequences:  34249\n"
          ]
        }
      ]
    },
    {
      "cell_type": "code",
      "source": [
        "#sample data\n",
        "first_data = next(iter(dataset))\n",
        "print(first_data)\n",
        "#data need not be the same as previous node\n",
        "from torch_geometric_temporal.dataset import ChickenpoxDatasetLoader\n",
        "d = ChickenpoxDatasetLoader().get_dataset(lags=4)\n",
        "next(iter(d))"
      ],
      "metadata": {
        "colab": {
          "base_uri": "https://localhost:8080/"
        },
        "id": "UpenX7DLl7ED",
        "outputId": "95d13195-b562-4692-c8a2-ee390cda073f"
      },
      "execution_count": 15,
      "outputs": [
        {
          "output_type": "stream",
          "name": "stdout",
          "text": [
            "Data(x=[207, 2, 12], edge_index=[2, 1722], edge_attr=[1722], y=[207, 12])\n"
          ]
        },
        {
          "output_type": "execute_result",
          "data": {
            "text/plain": [
              "Data(x=[20, 4], edge_index=[2, 102], edge_attr=[102], y=[20])"
            ]
          },
          "metadata": {},
          "execution_count": 15
        }
      ]
    },
    {
      "cell_type": "code",
      "source": [
        "#simple visualization of the given data over time (hours of a day)\n",
        "import seaborn as sns\n",
        "import matplotlib.pyplot as plt\n",
        "\n",
        "sensor_number = 5\n",
        "hours = 24\n",
        "sensor_labels = [bucket.y[sensor_number][0].item() for bucket in list(dataset)[:hours]]\n",
        "\n",
        "hours_list = list(range(hours))\n",
        "sns.lineplot(x=hours_list, y=sensor_labels)\n",
        "plt.xlabel(\"Hour of the Day\")\n",
        "plt.ylabel(\"Sensor Value\")\n",
        "plt.title(\"Sensor Data Over Time\")\n",
        "plt.legend()\n",
        "plt.show()\n"
      ],
      "metadata": {
        "colab": {
          "base_uri": "https://localhost:8080/",
          "height": 313
        },
        "id": "TVlVKJApmHV7",
        "outputId": "77740cab-bc7f-46de-e06e-b89fbc2021c4"
      },
      "execution_count": 18,
      "outputs": [
        {
          "output_type": "stream",
          "name": "stderr",
          "text": [
            "No handles with labels found to put in legend.\n"
          ]
        },
        {
          "output_type": "display_data",
          "data": {
            "text/plain": [
              "<Figure size 432x288 with 1 Axes>"
            ],
            "image/png": "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\n"
          },
          "metadata": {
            "needs_background": "light"
          }
        }
      ]
    },
    {
      "cell_type": "markdown",
      "source": [
        "## Splitting dataset"
      ],
      "metadata": {
        "id": "fbyxau-4oS8h"
      }
    },
    {
      "cell_type": "code",
      "source": [
        "from torch_geometric_temporal.signal import temporal_signal_split\n",
        "train_dataset, test_dataset = temporal_signal_split(dataset, train_ratio=0.8)\n",
        "\n",
        "train_count= 0\n",
        "for data in train_dataset:\n",
        "    train_count+= 1\n",
        "test_count= 0\n",
        "for data in test_dataset:\n",
        "    test_count+= 1\n",
        "print(\"Number of train buckets: \", train_count)\n",
        "print(\"Number of test buckets: \", test_count)"
      ],
      "metadata": {
        "colab": {
          "base_uri": "https://localhost:8080/"
        },
        "id": "PNiVfLZmn5UL",
        "outputId": "7f28d04b-217a-4e7f-d75b-782d541a8162"
      },
      "execution_count": 19,
      "outputs": [
        {
          "output_type": "stream",
          "name": "stdout",
          "text": [
            "Number of train buckets:  27399\n",
            "Number of test buckets:  6850\n"
          ]
        }
      ]
    },
    {
      "cell_type": "markdown",
      "source": [
        "## Build the model"
      ],
      "metadata": {
        "id": "Euoc5LPF-GVf"
      }
    },
    {
      "cell_type": "code",
      "source": [
        "import torch\n",
        "import torch.nn.functional as F\n",
        "from torch_geometric_temporal.nn.recurrent import A3TGCN\n",
        "\n",
        "class TemporalGNN(torch.nn.Module):\n",
        "    def __init__(self, node_features, periods):\n",
        "        super(TemporalGNN, self).__init__()\n",
        "        self.tgnn = A3TGCN(in_channels=node_features,\n",
        "                           out_channels=32,\n",
        "                           periods=periods)\n",
        "        self.linear = torch.nn.Linear(32, periods)\n",
        "\n",
        "    #x is node feature for t time stamp\n",
        "    def forward(self, x, edge_index):\n",
        "        h = self.tgnn(x, edge_index)\n",
        "        h = F.relu(h)\n",
        "        h = self.linear(h)\n",
        "        return h\n",
        "\n",
        "TemporalGNN(node_features=2, periods=12)"
      ],
      "metadata": {
        "colab": {
          "base_uri": "https://localhost:8080/"
        },
        "id": "Rw-AtZ28ohUY",
        "outputId": "53192a3e-470a-4a94-f987-0696f9577541"
      },
      "execution_count": 20,
      "outputs": [
        {
          "output_type": "execute_result",
          "data": {
            "text/plain": [
              "TemporalGNN(\n",
              "  (tgnn): A3TGCN(\n",
              "    (_base_tgcn): TGCN(\n",
              "      (conv_z): GCNConv(2, 32)\n",
              "      (linear_z): Linear(in_features=64, out_features=32, bias=True)\n",
              "      (conv_r): GCNConv(2, 32)\n",
              "      (linear_r): Linear(in_features=64, out_features=32, bias=True)\n",
              "      (conv_h): GCNConv(2, 32)\n",
              "      (linear_h): Linear(in_features=64, out_features=32, bias=True)\n",
              "    )\n",
              "  )\n",
              "  (linear): Linear(in_features=32, out_features=12, bias=True)\n",
              ")"
            ]
          },
          "metadata": {},
          "execution_count": 20
        }
      ]
    },
    {
      "cell_type": "markdown",
      "source": [
        "## Training"
      ],
      "metadata": {
        "id": "tkWCGMth-Jve"
      }
    },
    {
      "cell_type": "code",
      "source": [
        "device = torch.device('cpu')\n",
        "subset = 4000\n",
        "\n",
        "#model created and optimization\n",
        "model = TemporalGNN(node_features=2, periods=12).to(device)\n",
        "optimizer = torch.optim.Adam(model.parameters(), lr=0.01)\n",
        "model.train()\n",
        "\n",
        "print(\"Training of the model\")\n",
        "for epoch in range(10):\n",
        "    loss = 0\n",
        "    step = 0\n",
        "    for snapshot in train_dataset:\n",
        "        snapshot = snapshot.to(device)\n",
        "        #get model predictions\n",
        "        y_hat = model(snapshot.x, snapshot.edge_index)\n",
        "        #mean squared error\n",
        "        loss = loss + torch.mean((y_hat-snapshot.y)**2)\n",
        "        step += 1\n",
        "        if step > subset:\n",
        "          break\n",
        "\n",
        "    loss = loss / (step + 1)\n",
        "    loss.backward()\n",
        "    optimizer.step()\n",
        "    optimizer.zero_grad()\n",
        "    print(\"Epoch {} train MSE: {:.4f}\".format(epoch, loss.item()))"
      ],
      "metadata": {
        "colab": {
          "base_uri": "https://localhost:8080/"
        },
        "id": "Uql3uAJjozA7",
        "outputId": "844aa3a9-283b-4f14-ede2-f735e13911bd"
      },
      "execution_count": 22,
      "outputs": [
        {
          "output_type": "stream",
          "name": "stdout",
          "text": [
            "Training of the model\n",
            "Epoch 0 train MSE: 0.9128\n",
            "Epoch 1 train MSE: 0.8953\n",
            "Epoch 2 train MSE: 0.8761\n",
            "Epoch 3 train MSE: 0.8514\n",
            "Epoch 4 train MSE: 0.8209\n",
            "Epoch 5 train MSE: 0.7861\n",
            "Epoch 6 train MSE: 0.7490\n",
            "Epoch 7 train MSE: 0.7124\n",
            "Epoch 8 train MSE: 0.6789\n",
            "Epoch 9 train MSE: 0.6505\n"
          ]
        }
      ]
    },
    {
      "cell_type": "markdown",
      "source": [
        "## Testing and Evaluation"
      ],
      "metadata": {
        "id": "_FLd4b9Q-M5h"
      }
    },
    {
      "cell_type": "code",
      "source": [
        "model.eval()\n",
        "loss = 0\n",
        "step = 0\n",
        "horizon = 288\n",
        "\n",
        "#storing results\n",
        "predictions = []\n",
        "labels = []\n",
        "\n",
        "for snapshot in test_dataset:\n",
        "    snapshot = snapshot.to(device)\n",
        "    y_hat = model(snapshot.x, snapshot.edge_index)\n",
        "    #mean squared error\n",
        "    loss = loss + torch.mean((y_hat-snapshot.y)**2)\n",
        "    #storing results\n",
        "    labels.append(snapshot.y)\n",
        "    predictions.append(y_hat)\n",
        "    step += 1\n",
        "    if step > horizon:\n",
        "          break\n",
        "\n",
        "loss = loss/ (step+1)\n",
        "loss = loss.item()\n",
        "print(\"Test MSE: {:.4f}\".format(loss))"
      ],
      "metadata": {
        "id": "9pwkylpUuBTb",
        "colab": {
          "base_uri": "https://localhost:8080/"
        },
        "outputId": "652dadaa-51e4-4683-e8e2-5693ea43d256"
      },
      "execution_count": 23,
      "outputs": [
        {
          "output_type": "stream",
          "name": "stdout",
          "text": [
            "Test MSE: 0.6837\n"
          ]
        }
      ]
    },
    {
      "cell_type": "markdown",
      "source": [
        "## Visualize"
      ],
      "metadata": {
        "id": "b4jxraCf-SV-"
      }
    },
    {
      "cell_type": "code",
      "source": [
        "sensor = 100\n",
        "timestep = 10\n",
        "preds = np.asarray([pred[sensor][timestep].detach().cpu().numpy() for pred in predictions])\n",
        "labs  = np.asarray([label[sensor][timestep].cpu().numpy() for label in labels])\n",
        "print(\"Data points:,\", preds.shape)"
      ],
      "metadata": {
        "id": "ZJZ7OR0vuY2c",
        "colab": {
          "base_uri": "https://localhost:8080/"
        },
        "outputId": "d1a4f043-447a-4b36-c0b7-0bb76a8dfedf"
      },
      "execution_count": 24,
      "outputs": [
        {
          "output_type": "stream",
          "name": "stdout",
          "text": [
            "Data points:, (289,)\n"
          ]
        }
      ]
    },
    {
      "cell_type": "code",
      "source": [
        "import matplotlib.pyplot as plt\n",
        "plt.figure(figsize=(20,5))\n",
        "sns.lineplot(data=preds, label=\"predicted\")\n",
        "sns.lineplot(data=labs, label=\"actual\")"
      ],
      "metadata": {
        "id": "6fNre1_Pu4Sb",
        "colab": {
          "base_uri": "https://localhost:8080/",
          "height": 338
        },
        "outputId": "a2250013-6f2b-450b-f105-67c10f304665"
      },
      "execution_count": 25,
      "outputs": [
        {
          "output_type": "execute_result",
          "data": {
            "text/plain": [
              "<AxesSubplot:>"
            ]
          },
          "metadata": {},
          "execution_count": 25
        },
        {
          "output_type": "display_data",
          "data": {
            "text/plain": [
              "<Figure size 1440x360 with 1 Axes>"
            ],
            "image/png": "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\n"
          },
          "metadata": {
            "needs_background": "light"
          }
        }
      ]
    }
  ]
}
